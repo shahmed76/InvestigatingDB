{
 "cells": [
  {
   "cell_type": "markdown",
   "metadata": {},
   "source": [
    "df_gdp_vv# Welcome to Jupyter!"
   ]
  },
  {
   "cell_type": "markdown",
   "metadata": {},
   "source": [
    "#Data Wrangling"
   ]
  },
  {
   "cell_type": "markdown",
   "metadata": {},
   "source": [
    "#Introducation about the database: #This database is downloaded from Gapminder has collected a lot of information about how people live their lives in dierent countries, tracked across the years, and on a #number of dierent indicators. # you can read more about it from https://www.gapminder.org/\n",
    "Since I build my career in the energy sectore, I used Oil, coal and CO2 datasets to find mor about thr relationship between source of pollutants such as oil and coal. I wanted to know if a high consumsion of\n",
    "oil and coal could be an imprerical evidence that certian countries are polluting the enviornment.\n",
    "data sets are oil_consumption_total.csv, coal_consumption_total.csv, yearly_co2_emissions_1000_tonnes.csv, eg_use_comm_fo_zs.csv and energy_production_total.cs\n",
    "I created scatter plots, bar charts and trends to demonstrate my finsing"
   ]
  },
  {
   "cell_type": "markdown",
   "metadata": {},
   "source": [
    "#questions to be answered: \n",
    "#1. Is there a relationship between National Mean Annual GDP per Capita and Mean Annual Energy Consumption per Capita?\n",
    "#2. what are the top 5 countries consuming oil?\n",
    "#3. Is large consumtion and large CO2 similar or related by any means?\n",
    "#4. what are the trends between CO2 prouction and oil and coal conusmion."
   ]
  },
  {
   "cell_type": "code",
   "execution_count": 1,
   "metadata": {},
   "outputs": [],
   "source": [
    "# Import required packages\n",
    "import pandas as pd\n",
    "import numpy as np\n",
    "import copy\n",
    "import matplotlib.pyplot as plt\n",
    "%matplotlib inline\n",
    "import seaborn as sns\n",
    "sns.set_style('darkgrid', {'grid.linestyle': 'dotted'})\n",
    "plt.show()"
   ]
  },
  {
   "cell_type": "markdown",
   "metadata": {},
   "source": [
    " CO2 Emission .Oil and Coal Consumption"
   ]
  },
  {
   "cell_type": "code",
   "execution_count": 4,
   "metadata": {},
   "outputs": [],
   "source": [
    "# Energy: Oil, Coal consumption\n",
    "df_energy_oil = pd.read_csv('oil_consumption_total.csv')\n",
    "df_energy_coal = pd.read_csv('coal_consumption_total.csv')\n",
    "\n",
    "# Environment: CO2 emissions per year\n",
    "df_env_co2 = pd.read_csv('yearly_co2_emissions_1000_tonnes.csv')"
   ]
  },
  {
   "cell_type": "code",
   "execution_count": 5,
   "metadata": {},
   "outputs": [
    {
     "data": {
      "text/plain": [
       "(77, 56)"
      ]
     },
     "execution_count": 5,
     "metadata": {},
     "output_type": "execute_result"
    }
   ],
   "source": [
    "# Properties \n",
    "df_energy_oil.shape"
   ]
  },
  {
   "cell_type": "code",
   "execution_count": 6,
   "metadata": {},
   "outputs": [
    {
     "data": {
      "text/plain": [
       "True"
      ]
     },
     "execution_count": 6,
     "metadata": {},
     "output_type": "execute_result"
    }
   ],
   "source": [
    "# Properties1\n",
    "df_energy_oil.shape == df_energy_coal.shape"
   ]
  },
  {
   "cell_type": "code",
   "execution_count": 7,
   "metadata": {},
   "outputs": [
    {
     "data": {
      "text/plain": [
       "Index(['country', '1965', '1966', '1967', '1968', '1969', '1970', '1971',\n",
       "       '1972', '1973', '1974', '1975', '1976', '1977', '1978', '1979', '1980',\n",
       "       '1981', '1982', '1983', '1984', '1985', '1986', '1987', '1988', '1989',\n",
       "       '1990', '1991', '1992', '1993', '1994', '1995', '1996', '1997', '1998',\n",
       "       '1999', '2000', '2001', '2002', '2003', '2004', '2005', '2006', '2007',\n",
       "       '2008', '2009', '2010', '2011', '2012', '2013', '2014', '2015', '2016',\n",
       "       '2017', '2018', '2019'],\n",
       "      dtype='object')"
      ]
     },
     "execution_count": 7,
     "metadata": {},
     "output_type": "execute_result"
    }
   ],
   "source": [
    "# additional Properties for oil\n",
    "df_energy_oil.columns"
   ]
  },
  {
   "cell_type": "markdown",
   "metadata": {},
   "source": [
    "#here we want to know which years have data"
   ]
  },
  {
   "cell_type": "code",
   "execution_count": 8,
   "metadata": {},
   "outputs": [
    {
     "data": {
      "text/plain": [
       "True"
      ]
     },
     "execution_count": 8,
     "metadata": {},
     "output_type": "execute_result"
    }
   ],
   "source": [
    "#Properties oil and coal\n",
    "(df_energy_oil.columns == df_energy_coal.columns).all()"
   ]
  },
  {
   "cell_type": "code",
   "execution_count": 9,
   "metadata": {},
   "outputs": [
    {
     "data": {
      "text/plain": [
       "(192, 269)"
      ]
     },
     "execution_count": 9,
     "metadata": {},
     "output_type": "execute_result"
    }
   ],
   "source": [
    "# Properties \n",
    "df_env_co2.shape"
   ]
  },
  {
   "cell_type": "code",
   "execution_count": 10,
   "metadata": {},
   "outputs": [
    {
     "data": {
      "text/plain": [
       "Index(['country', '1751', '1752', '1753', '1754', '1755', '1756', '1757',\n",
       "       '1758', '1759',\n",
       "       ...\n",
       "       '2009', '2010', '2011', '2012', '2013', '2014', '2015', '2016', '2017',\n",
       "       '2018'],\n",
       "      dtype='object', length=269)"
      ]
     },
     "execution_count": 10,
     "metadata": {},
     "output_type": "execute_result"
    }
   ],
   "source": [
    "# Properties\n",
    "df_env_co2.columns"
   ]
  },
  {
   "cell_type": "markdown",
   "metadata": {},
   "source": [
    "#here we want to know which years have data about CO2"
   ]
  },
  {
   "cell_type": "markdown",
   "metadata": {},
   "source": [
    "#cleaning data"
   ]
  },
  {
   "cell_type": "code",
   "execution_count": 12,
   "metadata": {},
   "outputs": [],
   "source": [
    "# Create subsets from 1995 to 2014 \n",
    "subdf_energy_oil = df_energy_oil.iloc[:, np.r_[0, -22:-2]]\n",
    "subdf_energy_coal = df_energy_coal.iloc[:, np.r_[0, -22:-2]]\n",
    "subdf_env_co2 = df_env_co2.iloc[:, np.r_[0, -20:-0]].set_index('country')"
   ]
  },
  {
   "cell_type": "code",
   "execution_count": 13,
   "metadata": {},
   "outputs": [
    {
     "data": {
      "text/html": [
       "<div>\n",
       "<style scoped>\n",
       "    .dataframe tbody tr th:only-of-type {\n",
       "        vertical-align: middle;\n",
       "    }\n",
       "\n",
       "    .dataframe tbody tr th {\n",
       "        vertical-align: top;\n",
       "    }\n",
       "\n",
       "    .dataframe thead th {\n",
       "        text-align: right;\n",
       "    }\n",
       "</style>\n",
       "<table border=\"1\" class=\"dataframe\">\n",
       "  <thead>\n",
       "    <tr style=\"text-align: right;\">\n",
       "      <th></th>\n",
       "      <th>1998</th>\n",
       "      <th>1999</th>\n",
       "      <th>2000</th>\n",
       "      <th>2001</th>\n",
       "      <th>2002</th>\n",
       "      <th>2003</th>\n",
       "      <th>2004</th>\n",
       "      <th>2005</th>\n",
       "      <th>2006</th>\n",
       "      <th>2007</th>\n",
       "      <th>2008</th>\n",
       "      <th>2009</th>\n",
       "      <th>2010</th>\n",
       "      <th>2011</th>\n",
       "      <th>2012</th>\n",
       "      <th>2013</th>\n",
       "      <th>2014</th>\n",
       "      <th>2015</th>\n",
       "      <th>2016</th>\n",
       "      <th>2017</th>\n",
       "    </tr>\n",
       "    <tr>\n",
       "      <th>country</th>\n",
       "      <th></th>\n",
       "      <th></th>\n",
       "      <th></th>\n",
       "      <th></th>\n",
       "      <th></th>\n",
       "      <th></th>\n",
       "      <th></th>\n",
       "      <th></th>\n",
       "      <th></th>\n",
       "      <th></th>\n",
       "      <th></th>\n",
       "      <th></th>\n",
       "      <th></th>\n",
       "      <th></th>\n",
       "      <th></th>\n",
       "      <th></th>\n",
       "      <th></th>\n",
       "      <th></th>\n",
       "      <th></th>\n",
       "      <th></th>\n",
       "    </tr>\n",
       "  </thead>\n",
       "  <tbody>\n",
       "    <tr>\n",
       "      <th>Algeria</th>\n",
       "      <td>8768000</td>\n",
       "      <td>8697000.0</td>\n",
       "      <td>8965000.0</td>\n",
       "      <td>9340000.0</td>\n",
       "      <td>10465000</td>\n",
       "      <td>10706000.0</td>\n",
       "      <td>11323000.0</td>\n",
       "      <td>11594000</td>\n",
       "      <td>12382000</td>\n",
       "      <td>13657000</td>\n",
       "      <td>14757000</td>\n",
       "      <td>15386000</td>\n",
       "      <td>15110000</td>\n",
       "      <td>16075000</td>\n",
       "      <td>17092000</td>\n",
       "      <td>17758000</td>\n",
       "      <td>18479000</td>\n",
       "      <td>19633000</td>\n",
       "      <td>18949000</td>\n",
       "      <td>18782000</td>\n",
       "    </tr>\n",
       "    <tr>\n",
       "      <th>Argentina</th>\n",
       "      <td>22308000</td>\n",
       "      <td>20950000.0</td>\n",
       "      <td>20946000.0</td>\n",
       "      <td>20129000.0</td>\n",
       "      <td>18494000</td>\n",
       "      <td>19081000.0</td>\n",
       "      <td>20319000.0</td>\n",
       "      <td>21743000</td>\n",
       "      <td>22653000</td>\n",
       "      <td>25430000</td>\n",
       "      <td>26410000</td>\n",
       "      <td>25127000</td>\n",
       "      <td>28660000</td>\n",
       "      <td>28660000</td>\n",
       "      <td>29780000</td>\n",
       "      <td>31980000</td>\n",
       "      <td>31470000</td>\n",
       "      <td>32260000</td>\n",
       "      <td>31250000</td>\n",
       "      <td>30480000</td>\n",
       "    </tr>\n",
       "    <tr>\n",
       "      <th>Australia</th>\n",
       "      <td>85200000</td>\n",
       "      <td>89300000.0</td>\n",
       "      <td>89500000.0</td>\n",
       "      <td>89200000.0</td>\n",
       "      <td>90200000</td>\n",
       "      <td>91600000.0</td>\n",
       "      <td>94900000.0</td>\n",
       "      <td>94300000</td>\n",
       "      <td>99100000</td>\n",
       "      <td>98000000</td>\n",
       "      <td>100400000</td>\n",
       "      <td>98300000</td>\n",
       "      <td>93800000</td>\n",
       "      <td>95300000</td>\n",
       "      <td>93800000</td>\n",
       "      <td>92100000</td>\n",
       "      <td>92300000</td>\n",
       "      <td>92100000</td>\n",
       "      <td>92400000</td>\n",
       "      <td>92900000</td>\n",
       "    </tr>\n",
       "    <tr>\n",
       "      <th>Austria</th>\n",
       "      <td>15650000</td>\n",
       "      <td>15330000.0</td>\n",
       "      <td>15450000.0</td>\n",
       "      <td>16670000.0</td>\n",
       "      <td>16930000</td>\n",
       "      <td>18290000.0</td>\n",
       "      <td>17800000.0</td>\n",
       "      <td>17790000</td>\n",
       "      <td>17790000</td>\n",
       "      <td>16760000</td>\n",
       "      <td>16610000</td>\n",
       "      <td>15070000</td>\n",
       "      <td>16080000</td>\n",
       "      <td>15370000</td>\n",
       "      <td>15120000</td>\n",
       "      <td>15480000</td>\n",
       "      <td>14700000</td>\n",
       "      <td>14940000</td>\n",
       "      <td>15110000</td>\n",
       "      <td>15420000</td>\n",
       "    </tr>\n",
       "    <tr>\n",
       "      <th>Azerbaijan</th>\n",
       "      <td>5950000</td>\n",
       "      <td>5730000.0</td>\n",
       "      <td>6330000.0</td>\n",
       "      <td>4003000.0</td>\n",
       "      <td>3672000</td>\n",
       "      <td>4273000.0</td>\n",
       "      <td>4600920.0</td>\n",
       "      <td>5383220</td>\n",
       "      <td>4813220</td>\n",
       "      <td>4524930</td>\n",
       "      <td>3593700</td>\n",
       "      <td>3313700</td>\n",
       "      <td>3265550</td>\n",
       "      <td>3994930</td>\n",
       "      <td>4173700</td>\n",
       "      <td>4543080</td>\n",
       "      <td>4451850</td>\n",
       "      <td>4543080</td>\n",
       "      <td>4521230</td>\n",
       "      <td>4561230</td>\n",
       "    </tr>\n",
       "  </tbody>\n",
       "</table>\n",
       "</div>"
      ],
      "text/plain": [
       "                1998        1999        2000        2001      2002  \\\n",
       "country                                                              \n",
       "Algeria      8768000   8697000.0   8965000.0   9340000.0  10465000   \n",
       "Argentina   22308000  20950000.0  20946000.0  20129000.0  18494000   \n",
       "Australia   85200000  89300000.0  89500000.0  89200000.0  90200000   \n",
       "Austria     15650000  15330000.0  15450000.0  16670000.0  16930000   \n",
       "Azerbaijan   5950000   5730000.0   6330000.0   4003000.0   3672000   \n",
       "\n",
       "                  2003        2004      2005      2006      2007       2008  \\\n",
       "country                                                                       \n",
       "Algeria     10706000.0  11323000.0  11594000  12382000  13657000   14757000   \n",
       "Argentina   19081000.0  20319000.0  21743000  22653000  25430000   26410000   \n",
       "Australia   91600000.0  94900000.0  94300000  99100000  98000000  100400000   \n",
       "Austria     18290000.0  17800000.0  17790000  17790000  16760000   16610000   \n",
       "Azerbaijan   4273000.0   4600920.0   5383220   4813220   4524930    3593700   \n",
       "\n",
       "                2009      2010      2011      2012      2013      2014  \\\n",
       "country                                                                  \n",
       "Algeria     15386000  15110000  16075000  17092000  17758000  18479000   \n",
       "Argentina   25127000  28660000  28660000  29780000  31980000  31470000   \n",
       "Australia   98300000  93800000  95300000  93800000  92100000  92300000   \n",
       "Austria     15070000  16080000  15370000  15120000  15480000  14700000   \n",
       "Azerbaijan   3313700   3265550   3994930   4173700   4543080   4451850   \n",
       "\n",
       "                2015      2016      2017  \n",
       "country                                   \n",
       "Algeria     19633000  18949000  18782000  \n",
       "Argentina   32260000  31250000  30480000  \n",
       "Australia   92100000  92400000  92900000  \n",
       "Austria     14940000  15110000  15420000  \n",
       "Azerbaijan   4543080   4521230   4561230  "
      ]
     },
     "execution_count": 13,
     "metadata": {},
     "output_type": "execute_result"
    }
   ],
   "source": [
    "# Combine subdf_energy_oil and subdf_energy_coal\n",
    "df_energy_v1 = pd.concat(objs = [subdf_energy_oil, subdf_energy_coal]).sort_values(by = 'country')\n",
    "# df_energy_v1.head()\n",
    "\n",
    "# Sum annual data\n",
    "df_energy_v2 = df_energy_v1.groupby('country').sum()\n",
    "df_energy_v2.head()"
   ]
  },
  {
   "cell_type": "markdown",
   "metadata": {},
   "source": [
    "# a table demonstarting energy from oil and coal"
   ]
  },
  {
   "cell_type": "markdown",
   "metadata": {},
   "source": [
    "\n",
    "#GDP and  Energy Consumption"
   ]
  },
  {
   "cell_type": "code",
   "execution_count": 14,
   "metadata": {},
   "outputs": [],
   "source": [
    "# Top 5 countries \n",
    "mean_energy_consumption = df_energy_v2.mean(axis=1).sort_values(ascending = False).head() # mean annual oil and coal consumption\n",
    "mean_co2_emission = subdf_env_co2.mean(axis=1).sort_values(ascending = False).head() # mean annual CO2 emissions"
   ]
  },
  {
   "cell_type": "code",
   "execution_count": 15,
   "metadata": {},
   "outputs": [
    {
     "name": "stdout",
     "output_type": "stream",
     "text": [
      "<Annual Oil and Coal Consumption>\n",
      "country\n",
      "China            1.812200e+09\n",
      "United States    1.331100e+09\n",
      "India            4.111150e+08\n",
      "Japan            3.341050e+08\n",
      "Russia           2.298950e+08\n",
      "dtype: float64\n",
      "\n",
      "<Annual CO2 Emissions>\n",
      "country\n",
      "China            7208000.0\n",
      "United States    5738000.0\n",
      "India            1649800.0\n",
      "Russia           1588500.0\n",
      "Japan            1252000.0\n",
      "dtype: float64\n",
      "\n"
     ]
    }
   ],
   "source": [
    "mean_dict = {'Annual Oil and Coal Consumption':mean_energy_consumption\n",
    "            , 'Annual CO2 Emissions':mean_co2_emission}\n",
    "for key in mean_dict:\n",
    "    print('<{}>\\n{}\\n'.format(key, mean_dict[key]))"
   ]
  },
  {
   "cell_type": "markdown",
   "metadata": {},
   "source": [
    "#Top 5 countries that produce the highest CO2 and are the top countries consuming oil and coalr"
   ]
  },
  {
   "cell_type": "code",
   "execution_count": 16,
   "metadata": {},
   "outputs": [
    {
     "data": {
      "text/html": [
       "<div>\n",
       "<style scoped>\n",
       "    .dataframe tbody tr th:only-of-type {\n",
       "        vertical-align: middle;\n",
       "    }\n",
       "\n",
       "    .dataframe tbody tr th {\n",
       "        vertical-align: top;\n",
       "    }\n",
       "\n",
       "    .dataframe thead th {\n",
       "        text-align: right;\n",
       "    }\n",
       "</style>\n",
       "<table border=\"1\" class=\"dataframe\">\n",
       "  <thead>\n",
       "    <tr style=\"text-align: right;\">\n",
       "      <th></th>\n",
       "      <th>country</th>\n",
       "      <th>mean_energy_consumption</th>\n",
       "      <th>mean_co2_emission</th>\n",
       "    </tr>\n",
       "  </thead>\n",
       "  <tbody>\n",
       "    <tr>\n",
       "      <th>0</th>\n",
       "      <td>China</td>\n",
       "      <td>1.812200e+09</td>\n",
       "      <td>7208000.0</td>\n",
       "    </tr>\n",
       "    <tr>\n",
       "      <th>1</th>\n",
       "      <td>United States</td>\n",
       "      <td>1.331100e+09</td>\n",
       "      <td>5738000.0</td>\n",
       "    </tr>\n",
       "    <tr>\n",
       "      <th>2</th>\n",
       "      <td>India</td>\n",
       "      <td>4.111150e+08</td>\n",
       "      <td>1649800.0</td>\n",
       "    </tr>\n",
       "    <tr>\n",
       "      <th>3</th>\n",
       "      <td>Japan</td>\n",
       "      <td>3.341050e+08</td>\n",
       "      <td>1252000.0</td>\n",
       "    </tr>\n",
       "    <tr>\n",
       "      <th>4</th>\n",
       "      <td>Russia</td>\n",
       "      <td>2.298950e+08</td>\n",
       "      <td>1588500.0</td>\n",
       "    </tr>\n",
       "  </tbody>\n",
       "</table>\n",
       "</div>"
      ],
      "text/plain": [
       "         country  mean_energy_consumption  mean_co2_emission\n",
       "0          China             1.812200e+09          7208000.0\n",
       "1  United States             1.331100e+09          5738000.0\n",
       "2          India             4.111150e+08          1649800.0\n",
       "3          Japan             3.341050e+08          1252000.0\n",
       "4         Russia             2.298950e+08          1588500.0"
      ]
     },
     "execution_count": 16,
     "metadata": {},
     "output_type": "execute_result"
    }
   ],
   "source": [
    "df_energy_co2 = pd.concat([mean_energy_consumption, mean_co2_emission], axis = 1, join = 'inner', keys = 'country')\n",
    "df_energy_co2.columns = ['mean_energy_consumption', 'mean_co2_emission']\n",
    "df_energy_co2.reset_index('country', inplace = True)\n",
    "df_energy_co2"
   ]
  },
  {
   "cell_type": "markdown",
   "metadata": {},
   "source": [
    "#mean consumption and meacn CO2 emission per top 5 countries"
   ]
  },
  {
   "cell_type": "code",
   "execution_count": 17,
   "metadata": {},
   "outputs": [],
   "source": [
    "# largest annual oil and coal consumption and CO2 emissions for top 5 \n",
    "top_5_country = df_energy_co2['country']\n",
    "\n",
    "# Annual oil and coal consumption data for top_5\n",
    "df_energy_v3 = df_energy_v2.reset_index('country').query('country in @top_5_country')\n",
    "df_energy_v3.index = np.arange(len(df_energy_v3))\n",
    "\n",
    "# Annual CO2 emissions data for top 5\n",
    "df_co2_v1 = subdf_env_co2.reset_index('country').query('country in @top_5_country')\n",
    "df_co2_v1.index = np.arange(len(df_co2_v1))"
   ]
  },
  {
   "cell_type": "code",
   "execution_count": 18,
   "metadata": {},
   "outputs": [],
   "source": [
    "# Combine year columns to a single year column and assign their values to a new column\n",
    "df_energy_v4 = pd.melt(frame = df_energy_v3, id_vars = ['country']\n",
    "                       , value_vars = list(df_energy_v3.columns[1:]) # year columns from 1995 to 2014\n",
    "                       , var_name = 'year' # new column for the year columns\n",
    "                       , value_name = 'energy_consumption') # new column for values originally under the year columns\n",
    "df_co2_v2 = pd.melt(frame = df_co2_v1, id_vars = ['country']\n",
    "                    , value_vars = list(df_co2_v1.columns[1:]) # year columns from 1995 to 2014\n",
    "                    , var_name = 'year' # new column for the year columns\n",
    "                    , value_name = 'co2_emission') # new column for values originally under the year columns\n",
    "\n",
    "df_energy_v4.sort_values(by = ['country', 'year'], inplace = True)\n",
    "df_co2_v2.sort_values(by = ['country', 'year'], inplace = True)\n",
    "\n",
    "df_energy_v4.index = np.arange(len(df_energy_v4))\n",
    "df_co2_v2.index = np.arange(len(df_co2_v2))"
   ]
  },
  {
   "cell_type": "code",
   "execution_count": 19,
   "metadata": {},
   "outputs": [
    {
     "data": {
      "text/html": [
       "<div>\n",
       "<style scoped>\n",
       "    .dataframe tbody tr th:only-of-type {\n",
       "        vertical-align: middle;\n",
       "    }\n",
       "\n",
       "    .dataframe tbody tr th {\n",
       "        vertical-align: top;\n",
       "    }\n",
       "\n",
       "    .dataframe thead th {\n",
       "        text-align: right;\n",
       "    }\n",
       "</style>\n",
       "<table border=\"1\" class=\"dataframe\">\n",
       "  <thead>\n",
       "    <tr style=\"text-align: right;\">\n",
       "      <th></th>\n",
       "      <th>country</th>\n",
       "      <th>year</th>\n",
       "      <th>energy_consumption</th>\n",
       "      <th>co2_emission</th>\n",
       "    </tr>\n",
       "  </thead>\n",
       "  <tbody>\n",
       "    <tr>\n",
       "      <th>0</th>\n",
       "      <td>China</td>\n",
       "      <td>1999</td>\n",
       "      <td>9.050000e+08</td>\n",
       "      <td>3260000.0</td>\n",
       "    </tr>\n",
       "    <tr>\n",
       "      <th>1</th>\n",
       "      <td>China</td>\n",
       "      <td>2000</td>\n",
       "      <td>9.300000e+08</td>\n",
       "      <td>3350000.0</td>\n",
       "    </tr>\n",
       "    <tr>\n",
       "      <th>2</th>\n",
       "      <td>China</td>\n",
       "      <td>2001</td>\n",
       "      <td>9.720000e+08</td>\n",
       "      <td>3430000.0</td>\n",
       "    </tr>\n",
       "    <tr>\n",
       "      <th>3</th>\n",
       "      <td>China</td>\n",
       "      <td>2002</td>\n",
       "      <td>1.062000e+09</td>\n",
       "      <td>3790000.0</td>\n",
       "    </tr>\n",
       "    <tr>\n",
       "      <th>4</th>\n",
       "      <td>China</td>\n",
       "      <td>2003</td>\n",
       "      <td>1.246000e+09</td>\n",
       "      <td>4460000.0</td>\n",
       "    </tr>\n",
       "  </tbody>\n",
       "</table>\n",
       "</div>"
      ],
      "text/plain": [
       "  country  year  energy_consumption  co2_emission\n",
       "0   China  1999        9.050000e+08     3260000.0\n",
       "1   China  2000        9.300000e+08     3350000.0\n",
       "2   China  2001        9.720000e+08     3430000.0\n",
       "3   China  2002        1.062000e+09     3790000.0\n",
       "4   China  2003        1.246000e+09     4460000.0"
      ]
     },
     "execution_count": 19,
     "metadata": {},
     "output_type": "execute_result"
    }
   ],
   "source": [
    "df_energy_co2_annual = df_energy_v4.merge(right = df_co2_v2, on = ['country', 'year'])\n",
    "df_energy_co2_annual.head()"
   ]
  },
  {
   "cell_type": "code",
   "execution_count": 21,
   "metadata": {},
   "outputs": [],
   "source": [
    "# Save cleaned datasets \n",
    "df_energy_co2.to_csv('mean_energy_co2.csv', index = False)\n",
    "df_energy_co2_annual.to_csv('annual_energy_co2.csv', index = False)"
   ]
  },
  {
   "cell_type": "code",
   "execution_count": 22,
   "metadata": {},
   "outputs": [],
   "source": [
    "# Energy: Energy use, per person\n",
    "df_energy_cons = pd.read_csv('eg_use_comm_fo_zs.csv')\n",
    "df_energy_prod = pd.read_csv('energy_production_total.csv')\n",
    "\n",
    "# Economy: GDP/capita (USD, inflation-adjusted)\n",
    "df_gdp = pd.read_csv('gdp_total_yearly_growth.csv')"
   ]
  },
  {
   "cell_type": "code",
   "execution_count": 23,
   "metadata": {},
   "outputs": [
    {
     "data": {
      "text/plain": [
       "((168, 57), (133, 52), (194, 214))"
      ]
     },
     "execution_count": 23,
     "metadata": {},
     "output_type": "execute_result"
    }
   ],
   "source": [
    "# Properties\n",
    "df_energy_cons.shape, df_energy_prod.shape, df_gdp.shape"
   ]
  },
  {
   "cell_type": "code",
   "execution_count": 24,
   "metadata": {},
   "outputs": [
    {
     "data": {
      "text/plain": [
       "Index(['country', '1960', '1961', '1962', '1963', '1964', '1965', '1966',\n",
       "       '1967', '1968', '1969', '1970', '1971', '1972', '1973', '1974', '1975',\n",
       "       '1976', '1977', '1978', '1979', '1980', '1981', '1982', '1983', '1984',\n",
       "       '1985', '1986', '1987', '1988', '1989', '1990', '1991', '1992', '1993',\n",
       "       '1994', '1995', '1996', '1997', '1998', '1999', '2000', '2001', '2002',\n",
       "       '2003', '2004', '2005', '2006', '2007', '2008', '2009', '2010', '2011',\n",
       "       '2012', '2013', '2014', '2015'],\n",
       "      dtype='object')"
      ]
     },
     "execution_count": 24,
     "metadata": {},
     "output_type": "execute_result"
    }
   ],
   "source": [
    "# Properties\n",
    "df_energy_cons.columns"
   ]
  },
  {
   "cell_type": "code",
   "execution_count": 25,
   "metadata": {},
   "outputs": [
    {
     "data": {
      "text/plain": [
       "Index(['country', '1960', '1961', '1962', '1963', '1964', '1965', '1966',\n",
       "       '1967', '1968', '1969', '1970', '1971', '1972', '1973', '1974', '1975',\n",
       "       '1976', '1977', '1978', '1979', '1980', '1981', '1982', '1983', '1984',\n",
       "       '1985', '1986', '1987', '1988', '1989', '1990', '1991', '1992', '1993',\n",
       "       '1994', '1995', '1996', '1997', '1998', '1999', '2000', '2001', '2002',\n",
       "       '2003', '2004', '2005', '2006', '2007', '2008', '2009', '2010'],\n",
       "      dtype='object')"
      ]
     },
     "execution_count": 25,
     "metadata": {},
     "output_type": "execute_result"
    }
   ],
   "source": [
    "# Properties \n",
    "df_energy_prod.columns"
   ]
  },
  {
   "cell_type": "code",
   "execution_count": 26,
   "metadata": {},
   "outputs": [
    {
     "data": {
      "text/plain": [
       "Index(['country', '1801', '1802', '1803', '1804', '1805', '1806', '1807',\n",
       "       '1808', '1809',\n",
       "       ...\n",
       "       '2004', '2005', '2006', '2007', '2008', '2009', '2010', '2011', '2012',\n",
       "       '2013'],\n",
       "      dtype='object', length=214)"
      ]
     },
     "execution_count": 26,
     "metadata": {},
     "output_type": "execute_result"
    }
   ],
   "source": [
    "#Properties\n",
    "df_gdp.columns"
   ]
  },
  {
   "cell_type": "code",
   "execution_count": 29,
   "metadata": {},
   "outputs": [
    {
     "data": {
      "text/plain": [
       "(-inf, -inf)"
      ]
     },
     "execution_count": 29,
     "metadata": {},
     "output_type": "execute_result"
    }
   ],
   "source": [
    "# Properties\n",
    "np.log10(df_energy_cons.iloc[:, 1:]).min().min(), np.log10(df_energy_prod.iloc[:, 1:]).min().min()"
   ]
  },
  {
   "cell_type": "code",
   "execution_count": 28,
   "metadata": {},
   "outputs": [
    {
     "data": {
      "text/html": [
       "<div>\n",
       "<style scoped>\n",
       "    .dataframe tbody tr th:only-of-type {\n",
       "        vertical-align: middle;\n",
       "    }\n",
       "\n",
       "    .dataframe tbody tr th {\n",
       "        vertical-align: top;\n",
       "    }\n",
       "\n",
       "    .dataframe thead th {\n",
       "        text-align: right;\n",
       "    }\n",
       "</style>\n",
       "<table border=\"1\" class=\"dataframe\">\n",
       "  <thead>\n",
       "    <tr style=\"text-align: right;\">\n",
       "      <th></th>\n",
       "      <th>country</th>\n",
       "      <th>1960</th>\n",
       "      <th>1961</th>\n",
       "      <th>1962</th>\n",
       "      <th>1963</th>\n",
       "      <th>1964</th>\n",
       "      <th>1965</th>\n",
       "      <th>1966</th>\n",
       "      <th>1967</th>\n",
       "      <th>1968</th>\n",
       "      <th>...</th>\n",
       "      <th>2001</th>\n",
       "      <th>2002</th>\n",
       "      <th>2003</th>\n",
       "      <th>2004</th>\n",
       "      <th>2005</th>\n",
       "      <th>2006</th>\n",
       "      <th>2007</th>\n",
       "      <th>2008</th>\n",
       "      <th>2009</th>\n",
       "      <th>2010</th>\n",
       "    </tr>\n",
       "  </thead>\n",
       "  <tbody>\n",
       "    <tr>\n",
       "      <th>0</th>\n",
       "      <td>Albania</td>\n",
       "      <td>NaN</td>\n",
       "      <td>NaN</td>\n",
       "      <td>NaN</td>\n",
       "      <td>NaN</td>\n",
       "      <td>NaN</td>\n",
       "      <td>NaN</td>\n",
       "      <td>NaN</td>\n",
       "      <td>NaN</td>\n",
       "      <td>NaN</td>\n",
       "      <td>...</td>\n",
       "      <td>883.0</td>\n",
       "      <td>959.0</td>\n",
       "      <td>1050.0</td>\n",
       "      <td>1150.0</td>\n",
       "      <td>1170.0</td>\n",
       "      <td>1190.0</td>\n",
       "      <td>1060.0</td>\n",
       "      <td>1150.0</td>\n",
       "      <td>1250.0</td>\n",
       "      <td>NaN</td>\n",
       "    </tr>\n",
       "    <tr>\n",
       "      <th>1</th>\n",
       "      <td>Algeria</td>\n",
       "      <td>NaN</td>\n",
       "      <td>NaN</td>\n",
       "      <td>NaN</td>\n",
       "      <td>NaN</td>\n",
       "      <td>NaN</td>\n",
       "      <td>NaN</td>\n",
       "      <td>NaN</td>\n",
       "      <td>NaN</td>\n",
       "      <td>NaN</td>\n",
       "      <td>...</td>\n",
       "      <td>137000.0</td>\n",
       "      <td>143000.0</td>\n",
       "      <td>155000.0</td>\n",
       "      <td>158000.0</td>\n",
       "      <td>167000.0</td>\n",
       "      <td>165000.0</td>\n",
       "      <td>164000.0</td>\n",
       "      <td>162000.0</td>\n",
       "      <td>152000.0</td>\n",
       "      <td>NaN</td>\n",
       "    </tr>\n",
       "    <tr>\n",
       "      <th>2</th>\n",
       "      <td>Angola</td>\n",
       "      <td>NaN</td>\n",
       "      <td>NaN</td>\n",
       "      <td>NaN</td>\n",
       "      <td>NaN</td>\n",
       "      <td>NaN</td>\n",
       "      <td>NaN</td>\n",
       "      <td>NaN</td>\n",
       "      <td>NaN</td>\n",
       "      <td>NaN</td>\n",
       "      <td>...</td>\n",
       "      <td>43500.0</td>\n",
       "      <td>51400.0</td>\n",
       "      <td>51400.0</td>\n",
       "      <td>57600.0</td>\n",
       "      <td>70900.0</td>\n",
       "      <td>80000.0</td>\n",
       "      <td>95100.0</td>\n",
       "      <td>106000.0</td>\n",
       "      <td>101000.0</td>\n",
       "      <td>NaN</td>\n",
       "    </tr>\n",
       "    <tr>\n",
       "      <th>3</th>\n",
       "      <td>Argentina</td>\n",
       "      <td>NaN</td>\n",
       "      <td>NaN</td>\n",
       "      <td>NaN</td>\n",
       "      <td>NaN</td>\n",
       "      <td>NaN</td>\n",
       "      <td>NaN</td>\n",
       "      <td>NaN</td>\n",
       "      <td>NaN</td>\n",
       "      <td>NaN</td>\n",
       "      <td>...</td>\n",
       "      <td>84500.0</td>\n",
       "      <td>81300.0</td>\n",
       "      <td>84300.0</td>\n",
       "      <td>87100.0</td>\n",
       "      <td>84700.0</td>\n",
       "      <td>86200.0</td>\n",
       "      <td>82900.0</td>\n",
       "      <td>82900.0</td>\n",
       "      <td>80800.0</td>\n",
       "      <td>NaN</td>\n",
       "    </tr>\n",
       "    <tr>\n",
       "      <th>4</th>\n",
       "      <td>Armenia</td>\n",
       "      <td>NaN</td>\n",
       "      <td>NaN</td>\n",
       "      <td>NaN</td>\n",
       "      <td>NaN</td>\n",
       "      <td>NaN</td>\n",
       "      <td>NaN</td>\n",
       "      <td>NaN</td>\n",
       "      <td>NaN</td>\n",
       "      <td>NaN</td>\n",
       "      <td>...</td>\n",
       "      <td>602.0</td>\n",
       "      <td>738.0</td>\n",
       "      <td>692.0</td>\n",
       "      <td>746.0</td>\n",
       "      <td>861.0</td>\n",
       "      <td>846.0</td>\n",
       "      <td>826.0</td>\n",
       "      <td>797.0</td>\n",
       "      <td>825.0</td>\n",
       "      <td>NaN</td>\n",
       "    </tr>\n",
       "  </tbody>\n",
       "</table>\n",
       "<p>5 rows × 52 columns</p>\n",
       "</div>"
      ],
      "text/plain": [
       "     country  1960  1961  1962  1963  1964  1965  1966  1967  1968  ...  \\\n",
       "0    Albania   NaN   NaN   NaN   NaN   NaN   NaN   NaN   NaN   NaN  ...   \n",
       "1    Algeria   NaN   NaN   NaN   NaN   NaN   NaN   NaN   NaN   NaN  ...   \n",
       "2     Angola   NaN   NaN   NaN   NaN   NaN   NaN   NaN   NaN   NaN  ...   \n",
       "3  Argentina   NaN   NaN   NaN   NaN   NaN   NaN   NaN   NaN   NaN  ...   \n",
       "4    Armenia   NaN   NaN   NaN   NaN   NaN   NaN   NaN   NaN   NaN  ...   \n",
       "\n",
       "       2001      2002      2003      2004      2005      2006      2007  \\\n",
       "0     883.0     959.0    1050.0    1150.0    1170.0    1190.0    1060.0   \n",
       "1  137000.0  143000.0  155000.0  158000.0  167000.0  165000.0  164000.0   \n",
       "2   43500.0   51400.0   51400.0   57600.0   70900.0   80000.0   95100.0   \n",
       "3   84500.0   81300.0   84300.0   87100.0   84700.0   86200.0   82900.0   \n",
       "4     602.0     738.0     692.0     746.0     861.0     846.0     826.0   \n",
       "\n",
       "       2008      2009  2010  \n",
       "0    1150.0    1250.0   NaN  \n",
       "1  162000.0  152000.0   NaN  \n",
       "2  106000.0  101000.0   NaN  \n",
       "3   82900.0   80800.0   NaN  \n",
       "4     797.0     825.0   NaN  \n",
       "\n",
       "[5 rows x 52 columns]"
      ]
     },
     "execution_count": 28,
     "metadata": {},
     "output_type": "execute_result"
    }
   ],
   "source": [
    "# Properties\n",
    "df_energy_prod.head()"
   ]
  },
  {
   "cell_type": "code",
   "execution_count": 29,
   "metadata": {},
   "outputs": [
    {
     "data": {
      "text/html": [
       "<div>\n",
       "<style scoped>\n",
       "    .dataframe tbody tr th:only-of-type {\n",
       "        vertical-align: middle;\n",
       "    }\n",
       "\n",
       "    .dataframe tbody tr th {\n",
       "        vertical-align: top;\n",
       "    }\n",
       "\n",
       "    .dataframe thead th {\n",
       "        text-align: right;\n",
       "    }\n",
       "</style>\n",
       "<table border=\"1\" class=\"dataframe\">\n",
       "  <thead>\n",
       "    <tr style=\"text-align: right;\">\n",
       "      <th></th>\n",
       "      <th>country</th>\n",
       "      <th>1960</th>\n",
       "      <th>1961</th>\n",
       "      <th>1962</th>\n",
       "      <th>1963</th>\n",
       "      <th>1964</th>\n",
       "      <th>1965</th>\n",
       "      <th>1966</th>\n",
       "      <th>1967</th>\n",
       "      <th>1968</th>\n",
       "      <th>...</th>\n",
       "      <th>2006</th>\n",
       "      <th>2007</th>\n",
       "      <th>2008</th>\n",
       "      <th>2009</th>\n",
       "      <th>2010</th>\n",
       "      <th>2011</th>\n",
       "      <th>2012</th>\n",
       "      <th>2013</th>\n",
       "      <th>2014</th>\n",
       "      <th>2015</th>\n",
       "    </tr>\n",
       "  </thead>\n",
       "  <tbody>\n",
       "    <tr>\n",
       "      <th>0</th>\n",
       "      <td>Albania</td>\n",
       "      <td>NaN</td>\n",
       "      <td>NaN</td>\n",
       "      <td>NaN</td>\n",
       "      <td>NaN</td>\n",
       "      <td>NaN</td>\n",
       "      <td>NaN</td>\n",
       "      <td>NaN</td>\n",
       "      <td>NaN</td>\n",
       "      <td>NaN</td>\n",
       "      <td>...</td>\n",
       "      <td>64.5</td>\n",
       "      <td>65.1</td>\n",
       "      <td>63.8</td>\n",
       "      <td>63.4</td>\n",
       "      <td>63.2</td>\n",
       "      <td>61.5</td>\n",
       "      <td>57.8</td>\n",
       "      <td>56.4</td>\n",
       "      <td>61.4</td>\n",
       "      <td>NaN</td>\n",
       "    </tr>\n",
       "    <tr>\n",
       "      <th>1</th>\n",
       "      <td>Algeria</td>\n",
       "      <td>NaN</td>\n",
       "      <td>NaN</td>\n",
       "      <td>NaN</td>\n",
       "      <td>NaN</td>\n",
       "      <td>NaN</td>\n",
       "      <td>NaN</td>\n",
       "      <td>NaN</td>\n",
       "      <td>NaN</td>\n",
       "      <td>NaN</td>\n",
       "      <td>...</td>\n",
       "      <td>99.7</td>\n",
       "      <td>99.8</td>\n",
       "      <td>99.8</td>\n",
       "      <td>99.8</td>\n",
       "      <td>99.8</td>\n",
       "      <td>99.9</td>\n",
       "      <td>99.9</td>\n",
       "      <td>99.9</td>\n",
       "      <td>100.0</td>\n",
       "      <td>NaN</td>\n",
       "    </tr>\n",
       "    <tr>\n",
       "      <th>2</th>\n",
       "      <td>Angola</td>\n",
       "      <td>NaN</td>\n",
       "      <td>NaN</td>\n",
       "      <td>NaN</td>\n",
       "      <td>NaN</td>\n",
       "      <td>NaN</td>\n",
       "      <td>NaN</td>\n",
       "      <td>NaN</td>\n",
       "      <td>NaN</td>\n",
       "      <td>NaN</td>\n",
       "      <td>...</td>\n",
       "      <td>31.7</td>\n",
       "      <td>34.7</td>\n",
       "      <td>38.0</td>\n",
       "      <td>41.8</td>\n",
       "      <td>43.0</td>\n",
       "      <td>43.8</td>\n",
       "      <td>48.0</td>\n",
       "      <td>46.5</td>\n",
       "      <td>48.3</td>\n",
       "      <td>NaN</td>\n",
       "    </tr>\n",
       "    <tr>\n",
       "      <th>3</th>\n",
       "      <td>Antigua and Barbuda</td>\n",
       "      <td>NaN</td>\n",
       "      <td>NaN</td>\n",
       "      <td>NaN</td>\n",
       "      <td>NaN</td>\n",
       "      <td>NaN</td>\n",
       "      <td>NaN</td>\n",
       "      <td>NaN</td>\n",
       "      <td>NaN</td>\n",
       "      <td>NaN</td>\n",
       "      <td>...</td>\n",
       "      <td>0.0</td>\n",
       "      <td>0.0</td>\n",
       "      <td>NaN</td>\n",
       "      <td>NaN</td>\n",
       "      <td>NaN</td>\n",
       "      <td>NaN</td>\n",
       "      <td>NaN</td>\n",
       "      <td>NaN</td>\n",
       "      <td>NaN</td>\n",
       "      <td>NaN</td>\n",
       "    </tr>\n",
       "    <tr>\n",
       "      <th>4</th>\n",
       "      <td>Argentina</td>\n",
       "      <td>NaN</td>\n",
       "      <td>NaN</td>\n",
       "      <td>NaN</td>\n",
       "      <td>NaN</td>\n",
       "      <td>NaN</td>\n",
       "      <td>NaN</td>\n",
       "      <td>NaN</td>\n",
       "      <td>NaN</td>\n",
       "      <td>NaN</td>\n",
       "      <td>...</td>\n",
       "      <td>88.7</td>\n",
       "      <td>89.2</td>\n",
       "      <td>90.7</td>\n",
       "      <td>89.6</td>\n",
       "      <td>89.5</td>\n",
       "      <td>88.9</td>\n",
       "      <td>89.0</td>\n",
       "      <td>89.0</td>\n",
       "      <td>87.7</td>\n",
       "      <td>NaN</td>\n",
       "    </tr>\n",
       "  </tbody>\n",
       "</table>\n",
       "<p>5 rows × 57 columns</p>\n",
       "</div>"
      ],
      "text/plain": [
       "               country  1960  1961  1962  1963  1964  1965  1966  1967  1968  \\\n",
       "0              Albania   NaN   NaN   NaN   NaN   NaN   NaN   NaN   NaN   NaN   \n",
       "1              Algeria   NaN   NaN   NaN   NaN   NaN   NaN   NaN   NaN   NaN   \n",
       "2               Angola   NaN   NaN   NaN   NaN   NaN   NaN   NaN   NaN   NaN   \n",
       "3  Antigua and Barbuda   NaN   NaN   NaN   NaN   NaN   NaN   NaN   NaN   NaN   \n",
       "4            Argentina   NaN   NaN   NaN   NaN   NaN   NaN   NaN   NaN   NaN   \n",
       "\n",
       "   ...  2006  2007  2008  2009  2010  2011  2012  2013   2014  2015  \n",
       "0  ...  64.5  65.1  63.8  63.4  63.2  61.5  57.8  56.4   61.4   NaN  \n",
       "1  ...  99.7  99.8  99.8  99.8  99.8  99.9  99.9  99.9  100.0   NaN  \n",
       "2  ...  31.7  34.7  38.0  41.8  43.0  43.8  48.0  46.5   48.3   NaN  \n",
       "3  ...   0.0   0.0   NaN   NaN   NaN   NaN   NaN   NaN    NaN   NaN  \n",
       "4  ...  88.7  89.2  90.7  89.6  89.5  88.9  89.0  89.0   87.7   NaN  \n",
       "\n",
       "[5 rows x 57 columns]"
      ]
     },
     "execution_count": 29,
     "metadata": {},
     "output_type": "execute_result"
    }
   ],
   "source": [
    "#Properties\n",
    "df_energy_cons.head()"
   ]
  },
  {
   "cell_type": "code",
   "execution_count": 30,
   "metadata": {},
   "outputs": [
    {
     "data": {
      "text/plain": [
       "(False, False)"
      ]
     },
     "execution_count": 30,
     "metadata": {},
     "output_type": "execute_result"
    }
   ],
   "source": [
    "# Properties\n",
    "df_energy_cons['country'].duplicated().any(), df_gdp['country'].duplicated().any()"
   ]
  },
  {
   "cell_type": "code",
   "execution_count": 31,
   "metadata": {},
   "outputs": [
    {
     "data": {
      "text/plain": [
       "132"
      ]
     },
     "execution_count": 31,
     "metadata": {},
     "output_type": "execute_result"
    }
   ],
   "source": [
    "# List of countries\n",
    "country_ls_temp = np.intersect1d(df_energy_prod['country'], df_energy_cons['country'])\n",
    "country_ls = np.intersect1d(country_ls_temp, df_gdp['country'])\n",
    "\n",
    "len(country_ls)"
   ]
  },
  {
   "cell_type": "code",
   "execution_count": 32,
   "metadata": {},
   "outputs": [
    {
     "data": {
      "text/plain": [
       "(True, True)"
      ]
     },
     "execution_count": 32,
     "metadata": {},
     "output_type": "execute_result"
    }
   ],
   "source": [
    "# Query data for countries in all three datasets\n",
    "df_energy_prod_1 = df_energy_prod.query('country in @country_ls')\n",
    "df_energy_cons_v1 = df_energy_cons.query('country in @country_ls')\n",
    "df_gdp_v1 = df_gdp.query('country in @country_ls')\n",
    "\n",
    "df_energy_prod_1.shape[0] == df_energy_cons_v1.shape[0], df_energy_cons_v1.shape[0] == df_gdp_v1.shape[0]"
   ]
  },
  {
   "cell_type": "code",
   "execution_count": 34,
   "metadata": {},
   "outputs": [],
   "source": [
    "# Years in sub-datasets which do not with null data\n",
    "yr_ls_energy_prod = [year for year in df_energy_prod_1.columns[1:] if df_energy_prod_1[year].isna().any() == False]\n",
    "yr_ls_energy_cons = [year for year in df_energy_cons_v1.columns[1:] if df_energy_cons_v1[year].isna().any() == False]\n",
    "yr_ls_gdp = [year for year in df_gdp_v1.columns[1:] if df_gdp_v1[year].isna().any() == False]"
   ]
  },
  {
   "cell_type": "markdown",
   "metadata": {},
   "source": [
    "\n",
    "# Clean the data"
   ]
  },
  {
   "cell_type": "code",
   "execution_count": 35,
   "metadata": {},
   "outputs": [
    {
     "data": {
      "text/plain": [
       "array(['2007'], dtype='<U4')"
      ]
     },
     "execution_count": 35,
     "metadata": {},
     "output_type": "execute_result"
    }
   ],
   "source": [
    "# Years in all the three sub-datasets which do not have any null data\n",
    "yr_ls_temp = np.intersect1d(yr_ls_energy_prod, yr_ls_energy_cons)\n",
    "yr_ls = np.intersect1d(yr_ls_temp, yr_ls_gdp)\n",
    "yr_ls"
   ]
  },
  {
   "cell_type": "code",
   "execution_count": 37,
   "metadata": {},
   "outputs": [],
   "source": [
    "# Energy use, per person for selected countries from 2000 to 2007\n",
    "df_energy_cons_v2 = df_energy_cons_v1.iloc[:, np.r_[0, -16:-4]]\n",
    "df_energy_cons_v2.index = np.arange(len(df_energy_cons_v2))\n",
    "\n",
    "# GDP/capita for selected countries from 2000 to 2007\n",
    "df_gdp_vv = df_gdp_v1.iloc[:, np.r_[0, -18:-6]]\n",
    "df_gdp_vv.index = np.arange(len(df_gdp_vv))"
   ]
  },
  {
   "cell_type": "code",
   "execution_count": 38,
   "metadata": {},
   "outputs": [],
   "source": [
    "                              \n",
    "# Dataset for Country and its Mean Energy use, per person\n",
    "df_energy_cons_3 = copy.copy(df_energy_cons_v2)\n",
    "df_energy_cons_3['mean_cons'] = df_energy_cons_3.loc[:, '2000':'2007'].mean(axis=1)\n",
    "df_energy_cons_3 = df_energy_cons_3.iloc[:, np.r_[0, -1]]\n",
    "\n",
    "# Dataset for Country and its Mean GDP/capita\n",
    "df_gdp_3 = copy.copy(df_gdp_vv)\n",
    "df_gdp_3['mean_gdp'] = df_gdp_3.loc[:, '2000':'2007'].mean(axis=1)\n",
    "df_gdp_3 = df_gdp_3.iloc[:, np.r_[0, -1]]\n"
   ]
  },
  {
   "cell_type": "code",
   "execution_count": 39,
   "metadata": {},
   "outputs": [
    {
     "data": {
      "text/html": [
       "<div>\n",
       "<style scoped>\n",
       "    .dataframe tbody tr th:only-of-type {\n",
       "        vertical-align: middle;\n",
       "    }\n",
       "\n",
       "    .dataframe tbody tr th {\n",
       "        vertical-align: top;\n",
       "    }\n",
       "\n",
       "    .dataframe thead th {\n",
       "        text-align: right;\n",
       "    }\n",
       "</style>\n",
       "<table border=\"1\" class=\"dataframe\">\n",
       "  <thead>\n",
       "    <tr style=\"text-align: right;\">\n",
       "      <th></th>\n",
       "      <th>country</th>\n",
       "      <th>mean_cons</th>\n",
       "      <th>mean_gdp</th>\n",
       "    </tr>\n",
       "  </thead>\n",
       "  <tbody>\n",
       "    <tr>\n",
       "      <th>0</th>\n",
       "      <td>Albania</td>\n",
       "      <td>63.6375</td>\n",
       "      <td>5.760000</td>\n",
       "    </tr>\n",
       "    <tr>\n",
       "      <th>1</th>\n",
       "      <td>Algeria</td>\n",
       "      <td>99.7250</td>\n",
       "      <td>4.013750</td>\n",
       "    </tr>\n",
       "    <tr>\n",
       "      <th>2</th>\n",
       "      <td>Angola</td>\n",
       "      <td>29.6000</td>\n",
       "      <td>12.181250</td>\n",
       "    </tr>\n",
       "    <tr>\n",
       "      <th>3</th>\n",
       "      <td>Argentina</td>\n",
       "      <td>87.8125</td>\n",
       "      <td>3.361625</td>\n",
       "    </tr>\n",
       "    <tr>\n",
       "      <th>4</th>\n",
       "      <td>Armenia</td>\n",
       "      <td>67.7250</td>\n",
       "      <td>12.168750</td>\n",
       "    </tr>\n",
       "  </tbody>\n",
       "</table>\n",
       "</div>"
      ],
      "text/plain": [
       "     country  mean_cons   mean_gdp\n",
       "0    Albania    63.6375   5.760000\n",
       "1    Algeria    99.7250   4.013750\n",
       "2     Angola    29.6000  12.181250\n",
       "3  Argentina    87.8125   3.361625\n",
       "4    Armenia    67.7250  12.168750"
      ]
     },
     "execution_count": 39,
     "metadata": {},
     "output_type": "execute_result"
    }
   ],
   "source": [
    "#dataset for Mean Energy use, per person, and its GDP/capita per country\n",
    "df_energy_gdp = df_energy_cons_3.merge(right = df_gdp_3, on = 'country')\n",
    "df_energy_gdp.head()"
   ]
  },
  {
   "cell_type": "markdown",
   "metadata": {},
   "source": [
    "#Data analysis"
   ]
  },
  {
   "cell_type": "code",
   "execution_count": 40,
   "metadata": {},
   "outputs": [
    {
     "data": {
      "image/png": "[encoded data removed]",
      "text/plain": [
       "<Figure size 432x288 with 1 Axes>"
      ]
     },
     "metadata": {},
     "output_type": "display_data"
    }
   ],
   "source": [
    "\n",
    "# Scatter plot\n",
    "plt.figure(figsize = (6,4))\n",
    "plt.scatter(x = df_energy_gdp['mean_cons'], y = df_energy_gdp['mean_gdp'], c = 'green', edgecolors = 'black')\n",
    "\n",
    "# Lower bounds of the two variables for the outliers were added after reviewing the initial scatter plot\n",
    "hline = plt.hlines(y = 57000, xmin = 0, xmax = 20000, colors = 'red', linestyles = '--')\n",
    "vline = plt.vlines(x = 10000, ymin = 0, ymax = 105000, colors = 'red', linestyles = '-.')\n",
    "\n",
    "# Titles, axis labels, and legend\n",
    "plt.title('National Mean Annual GDP per Capita vs.\\nMean Annual Energy Consumption per Capita', fontsize = 16)\n",
    "plt.ylabel('GDP per Capita (USD)', fontsize = 14)\n",
    "plt.xlabel('Energy Consumption per Capita (toe)', fontsize = 14)\n",
    "plt.legend(handles = [hline, vline], labels = ['mean_gdp = 5700', 'mean_cons = 1000']);\n"
   ]
  },
  {
   "cell_type": "markdown",
   "metadata": {},
   "source": [
    "#' This is a graph that demonstrate the relation between national mean annual GDP per capit and the mean annual consumption for capita/' However, there is a small error here"
   ]
  },
  {
   "cell_type": "code",
   "execution_count": 41,
   "metadata": {},
   "outputs": [],
   "source": [
    "# Add indicator for outlier to df_energy_gdp\n",
    "for ind in df_energy_gdp.index:\n",
    "    if df_energy_gdp.loc[ind, 'mean_cons'] >= 10000 or df_energy_gdp.loc[ind, 'mean_gdp'] >= 57000:\n",
    "        df_energy_gdp.loc[ind, 'outlier'] = 'yes'\n",
    "    else:\n",
    "        df_energy_gdp.loc[ind, 'outlier'] = 'no'\n",
    "\n",
    "# Create df_energy_gdp_adj for non-outliers\n",
    "df_energy_gdp_adj = df_energy_gdp.query('outlier == \"no\"').iloc[:, :-1]"
   ]
  },
  {
   "cell_type": "code",
   "execution_count": 42,
   "metadata": {},
   "outputs": [],
   "source": [
    "# Save cleaned dataset\n",
    "df_energy_gdp.to_csv('energy_gdp.csv', index = False)\n",
    "df_energy_gdp_adj.to_csv('energy_gdp_adjusted.csv', index = False)"
   ]
  },
  {
   "cell_type": "code",
   "execution_count": 43,
   "metadata": {},
   "outputs": [],
   "source": [
    "def plot_bar(df, df_x, df_y, label_ls, width = 0.35):\n",
    "    # Parameters from function input\n",
    "    x = np.arange(len(df))\n",
    "    labels = list(df[df_x])\n",
    "    height = df[df_y]    \n",
    "    \n",
    "    # Bar plot\n",
    "    plt.figure(figsize = (8,6)) # Figure size\n",
    "    plt.bar(x = x, width = width, height = height) # Bar\n",
    "    plt.xticks(x, labels) # xtick labels\n",
    "    \n",
    "    # Title and axis labels\n",
    "    plt.title(label_ls[0], fontsize = 16)\n",
    "    plt.xlabel(label_ls[1], fontsize = 14)\n",
    "    plt.ylabel(label_ls[2], fontsize = 14);"
   ]
  },
  {
   "cell_type": "code",
   "execution_count": 44,
   "metadata": {},
   "outputs": [],
   "source": [
    "def plot_hist(df_x, bins, label_ls):\n",
    "    # Histogram plot\n",
    "    plt.figure(figsize = (15,6)) # Figure size\n",
    "    plt.hist(x = df_x, bins = bins)\n",
    "        \n",
    "    # Title and axis labels\n",
    "    plt.title(label_ls[0], fontsize = 16)\n",
    "    plt.xlabel(label_ls[1], fontsize = 14)\n",
    "    plt.ylabel(label_ls[2], fontsize = 14);"
   ]
  },
  {
   "cell_type": "code",
   "execution_count": 45,
   "metadata": {},
   "outputs": [],
   "source": [
    "# Load cleaned datasets\n",
    "df_mean_energy_co2 = pd.read_csv('mean_energy_co2.csv')\n",
    "df_annual_energy_co2 = pd.read_csv('annual_energy_co2.csv')"
   ]
  },
  {
   "cell_type": "markdown",
   "metadata": {},
   "source": [
    "# what are the top 5 countries consuming oil?"
   ]
  },
  {
   "cell_type": "code",
   "execution_count": 46,
   "metadata": {},
   "outputs": [
    {
     "data": {
      "text/html": [
       "<div>\n",
       "<style scoped>\n",
       "    .dataframe tbody tr th:only-of-type {\n",
       "        vertical-align: middle;\n",
       "    }\n",
       "\n",
       "    .dataframe tbody tr th {\n",
       "        vertical-align: top;\n",
       "    }\n",
       "\n",
       "    .dataframe thead th {\n",
       "        text-align: right;\n",
       "    }\n",
       "</style>\n",
       "<table border=\"1\" class=\"dataframe\">\n",
       "  <thead>\n",
       "    <tr style=\"text-align: right;\">\n",
       "      <th></th>\n",
       "      <th>country</th>\n",
       "      <th>mean_energy_consumption</th>\n",
       "    </tr>\n",
       "  </thead>\n",
       "  <tbody>\n",
       "    <tr>\n",
       "      <th>0</th>\n",
       "      <td>China</td>\n",
       "      <td>1.812200e+09</td>\n",
       "    </tr>\n",
       "    <tr>\n",
       "      <th>1</th>\n",
       "      <td>United States</td>\n",
       "      <td>1.331100e+09</td>\n",
       "    </tr>\n",
       "    <tr>\n",
       "      <th>2</th>\n",
       "      <td>India</td>\n",
       "      <td>4.111150e+08</td>\n",
       "    </tr>\n",
       "    <tr>\n",
       "      <th>3</th>\n",
       "      <td>Japan</td>\n",
       "      <td>3.341050e+08</td>\n",
       "    </tr>\n",
       "    <tr>\n",
       "      <th>4</th>\n",
       "      <td>Russia</td>\n",
       "      <td>2.298950e+08</td>\n",
       "    </tr>\n",
       "  </tbody>\n",
       "</table>\n",
       "</div>"
      ],
      "text/plain": [
       "         country  mean_energy_consumption\n",
       "0          China             1.812200e+09\n",
       "1  United States             1.331100e+09\n",
       "2          India             4.111150e+08\n",
       "3          Japan             3.341050e+08\n",
       "4         Russia             2.298950e+08"
      ]
     },
     "execution_count": 46,
     "metadata": {},
     "output_type": "execute_result"
    }
   ],
   "source": [
    "df_mean_energy_co2.iloc[:, :-1]"
   ]
  },
  {
   "cell_type": "code",
   "execution_count": 47,
   "metadata": {},
   "outputs": [
    {
     "data": {
      "image/png": "[encoded data removed]",
      "text/plain": [
       "<Figure size 576x432 with 1 Axes>"
      ]
     },
     "metadata": {},
     "output_type": "display_data"
    }
   ],
   "source": [
    "# Input parameters for plot_bar()\n",
    "df = df_mean_energy_co2 # dataframe\n",
    "df_x = 'country' # variable for x-axis\n",
    "df_y = 'mean_energy_consumption' # variable for y-axis\n",
    "label_ls = ['Five Countries with Largest Mean Annual\\nConsumption of Oil and Coal' # Title\n",
    "            , 'Country' # x-axis label\n",
    "            , 'Total Oil and Coal Consumption (toe)'] # y-axis label\n",
    "\n",
    "# Create bar plot for mean annual oil and coal consumption of five countries\n",
    "plot_bar(df, df_x, df_y, label_ls)"
   ]
  },
  {
   "cell_type": "markdown",
   "metadata": {},
   "source": [
    "# explaniation\n",
    "There are four countries consuimg the highest consumtion in Asia, and only one country from the west that has a high rate. Is that related to the populaltion or to old technology that rely on traditional energy resources?"
   ]
  },
  {
   "cell_type": "markdown",
   "metadata": {},
   "source": [
    "#what countries have similar top consumsion and CO2 production in the same time?"
   ]
  },
  {
   "cell_type": "code",
   "execution_count": 92,
   "metadata": {},
   "outputs": [
    {
     "data": {
      "text/html": [
       "<div>\n",
       "<style scoped>\n",
       "    .dataframe tbody tr th:only-of-type {\n",
       "        vertical-align: middle;\n",
       "    }\n",
       "\n",
       "    .dataframe tbody tr th {\n",
       "        vertical-align: top;\n",
       "    }\n",
       "\n",
       "    .dataframe thead th {\n",
       "        text-align: right;\n",
       "    }\n",
       "</style>\n",
       "<table border=\"1\" class=\"dataframe\">\n",
       "  <thead>\n",
       "    <tr style=\"text-align: right;\">\n",
       "      <th></th>\n",
       "      <th>country</th>\n",
       "      <th>mean_co2_emission</th>\n",
       "    </tr>\n",
       "  </thead>\n",
       "  <tbody>\n",
       "    <tr>\n",
       "      <th>0</th>\n",
       "      <td>China</td>\n",
       "      <td>7208000.0</td>\n",
       "    </tr>\n",
       "    <tr>\n",
       "      <th>1</th>\n",
       "      <td>United States</td>\n",
       "      <td>5738000.0</td>\n",
       "    </tr>\n",
       "    <tr>\n",
       "      <th>2</th>\n",
       "      <td>India</td>\n",
       "      <td>1649800.0</td>\n",
       "    </tr>\n",
       "    <tr>\n",
       "      <th>4</th>\n",
       "      <td>Russia</td>\n",
       "      <td>1588500.0</td>\n",
       "    </tr>\n",
       "    <tr>\n",
       "      <th>3</th>\n",
       "      <td>Japan</td>\n",
       "      <td>1252000.0</td>\n",
       "    </tr>\n",
       "  </tbody>\n",
       "</table>\n",
       "</div>"
      ],
      "text/plain": [
       "         country  mean_co2_emission\n",
       "0          China          7208000.0\n",
       "1  United States          5738000.0\n",
       "2          India          1649800.0\n",
       "4         Russia          1588500.0\n",
       "3          Japan          1252000.0"
      ]
     },
     "execution_count": 92,
     "metadata": {},
     "output_type": "execute_result"
    }
   ],
   "source": [
    "df_mean_energy_co2.iloc[:, np.r_[0,2]].sort_values(by = 'mean_co2_emission', ascending = False)"
   ]
  },
  {
   "cell_type": "code",
   "execution_count": 48,
   "metadata": {},
   "outputs": [
    {
     "data": {
      "image/png": "[encoded data removed]",
      "text/plain": [
       "<Figure size 576x432 with 1 Axes>"
      ]
     },
     "metadata": {},
     "output_type": "display_data"
    }
   ],
   "source": [
    "# Input parameters for plot_bar()\n",
    "df = df_mean_energy_co2 # dataframe\n",
    "df_x = 'country' # variable for x-axis\n",
    "df_y = 'mean_co2_emission' # variable for y-axis\n",
    "label_ls = ['Five Countries with Largest Mean Annual\\nCO2 Emissions' # Title\n",
    "            , 'Country' # x-axis label\n",
    "            , 'CO2 Emission (1000 tonnes)'] # y-axis label\n",
    "\n",
    "# Create bar plot for mean annual CO2 emissions of five countries\n",
    "plot_bar(df, df_x, df_y, label_ls)\n"
   ]
  },
  {
   "cell_type": "markdown",
   "metadata": {},
   "source": [
    "#reflectiona\n",
    "The order of the 5 top countries changed when it comes to CO2 emssion. It could be a good idea to reverse the industries that these countries work on. "
   ]
  },
  {
   "cell_type": "markdown",
   "metadata": {},
   "source": [
    "#Is large consumtion and large CO2 similar or related by any means?"
   ]
  },
  {
   "cell_type": "code",
   "execution_count": 177,
   "metadata": {},
   "outputs": [
    {
     "data": {
      "image/png": "[encoded data removed]",
      "text/plain": [
       "<Figure size 576x576 with 2 Axes>"
      ]
     },
     "metadata": {},
     "output_type": "display_data"
    }
   ],
   "source": [
    "# Plot mean annual oil and coal consumption and CO2 emissions \n",
    "fig, ax1 = plt.subplots(nrows = 1, ncols = 1, figsize = (8,8))\n",
    "\n",
    "x_loc = np.arange(len(df_mean_energy_co2))\n",
    "width = 0.35\n",
    "locations = x_loc + width / 2\n",
    "labels = list(df_mean_energy_co2['country'])\n",
    "\n",
    "# Bar plot\n",
    "mean_energy = ax1.bar(x = x_loc, width = width\n",
    "                      , height = df_mean_energy_co2['mean_energy_consumption']\n",
    "                      , color = 'red'\n",
    "                      , label = 'Mean Oil and Coal Consumption')\n",
    "ax2 = ax1.twinx() # Create 2nd bar plot for the right y-axis\n",
    "mean_co2 = ax2.bar(x = x_loc + width, width = width\n",
    "                   , height = df_mean_energy_co2['mean_co2_emission']\n",
    "                   , color = 'blue'\n",
    "                   , label = 'Mean CO2 Emission')\n",
    "\n",
    "fig.suptitle('Mean Consumption of Oil and Coal, and CO2 Emission\\nin Five Countries', fontsize = 16)\n",
    "plt.xticks(locations, labels)\n",
    "ax1.set_xlabel('Country', fontsize = 14)\n",
    "ax1.set_ylabel('Total Oil and Coal Consumption (toe)', fontsize = 14)\n",
    "ax2.set_ylabel('CO2 Emission (1000 tonnes)', fontsize = 14)\n",
    "plt.legend(handles = [mean_energy, mean_co2]\n",
    "           , labels = ['Mean Oil and Coal Consumption', 'Mean CO2 Emission']\n",
    "           , loc = 'upper right');"
   ]
  },
  {
   "cell_type": "markdown",
   "metadata": {},
   "source": [
    "#Referlection\n",
    "The sources of consumtions may be the same as the source of CO2 in Chinak India and Japan. However, this may not be the case in USA and Rusiaa. Again, green technology could be a factor that we should considder, or population"
   ]
  },
  {
   "cell_type": "markdown",
   "metadata": {},
   "source": [
    "#demonstrate the trends between CO2 prouction and oil and coal conusmion. "
   ]
  },
  {
   "cell_type": "code",
   "execution_count": 54,
   "metadata": {},
   "outputs": [
    {
     "data": {
      "image/png": "[encoded data removed]",
      "text/plain": [
       "<Figure size 1296x720 with 2 Axes>"
      ]
     },
     "metadata": {},
     "output_type": "display_data"
    }
   ],
   "source": [
    "# Plot yearly oil and coal consumption and CO2 emissions data \n",
    "fig, ax = plt.subplots(nrows = 1, ncols = 2, figsize = (18,10))\n",
    "\n",
    "# Line plot\n",
    "for key, group in df_annual_energy_co2.groupby('country'): # Plot for each country at a time\n",
    "    ax[0] = group.plot(ax = ax[0], x = 'year', y = 'energy_consumption', kind = 'line', label = key) # Plot for oil and coal consumption\n",
    "    ax[1] = group.plot(ax = ax[1], x = 'year', y = 'co2_emission', kind = 'line', label = key) # Plot for CO2 emissions\n",
    "\n",
    "# Although the data type for each year is \"int\", the original xticks were displayed as \"float\".\n",
    "xticks = list(np.arange(start = df_annual_energy_co2['year'].min()\n",
    "                        , stop = int(df_annual_energy_co2['year'].max())+1\n",
    "                        , step = 2))\n",
    "\n",
    "fig.suptitle('Annual Trends in Total Energy Consumption and Greenhouse Gas Emission\\nof Five Countries', fontsize = 18)\n",
    "\n",
    "ax[0].set_title('Annual Oil and Coal Consumption', fontsize = 16)\n",
    "ax[0].set_xlabel('Year', fontsize = 14)\n",
    "ax[0].set_ylabel('Total Oil and Coal Consumption (toe)', fontsize = 14)\n",
    "ax[0].set_xticks(ticks = xticks)\n",
    "ax[0].legend(fontsize = 13)\n",
    "\n",
    "ax[1].set_title('Annual CO2 Emission', fontsize = 16)\n",
    "ax[1].set_xlabel('Year', fontsize = 14)\n",
    "ax[1].set_ylabel('CO2 Emission (1000 tonnes)', fontsize = 14)\n",
    "ax[1].set_xticks(ticks = xticks)\n",
    "ax[1].legend(fontsize = 13);"
   ]
  },
  {
   "cell_type": "code",
   "execution_count": null,
   "metadata": {},
   "outputs": [],
   "source": []
  },
  {
   "cell_type": "markdown",
   "metadata": {},
   "source": [
    "# there is a positive coorelation betwwn oil and coal consumption and CO2 producation in China, USA and India. Russia had increase CO2 more than other countries.Since its CO2 is higher than its conspmtion"
   ]
  },
  {
   "cell_type": "code",
   "execution_count": 56,
   "metadata": {},
   "outputs": [],
   "source": [
    "#Load cleaned dataset \n",
    "df_energy_gdp = pd.read_csv('energy_gdp.csv') \n",
    "df_energy_gdp_adj = pd.read_csv('energy_gdp_adjusted.csv')"
   ]
  },
  {
   "cell_type": "code",
   "execution_count": 57,
   "metadata": {},
   "outputs": [
    {
     "name": "stdout",
     "output_type": "stream",
     "text": [
      "0.0% change from 0.07862467781337384 to 0.07862467781337384\n"
     ]
    }
   ],
   "source": [
    "# Correlation coefficient for GDP/capita vs. Energy use, per person\n",
    "cc = np.corrcoef(df_energy_gdp['mean_cons'], df_energy_gdp['mean_gdp'])[0,1] # including outliers\n",
    "cc_adj = np.corrcoef(df_energy_gdp_adj['mean_cons'], df_energy_gdp_adj['mean_gdp'])[0,1] # excluding outliers\n",
    "\n",
    "# % change in correlation coefficient after excluding outliers\n",
    "delta_cc = (cc_adj - cc)/cc*100\n",
    "print('{}% change from {} to {}'.format(delta_cc, cc, cc_adj))"
   ]
  },
  {
   "cell_type": "code",
   "execution_count": 58,
   "metadata": {},
   "outputs": [
    {
     "data": {
      "image/png": "[encoded data removed]",
      "text/plain": [
       "<Figure size 576x576 with 1 Axes>"
      ]
     },
     "metadata": {},
     "output_type": "display_data"
    }
   ],
   "source": [
    "# Plot mean Energy use, per person and mean GDP/capita of each country from 2000 to 2009\n",
    "plt.figure(figsize = (8,8))\n",
    "\n",
    "# Scatter plot including outliers\n",
    "for ind, outlier in zip(df_energy_gdp.index, df_energy_gdp['outlier']):\n",
    "    if outlier == 'yes': # indicate outliers in red\n",
    "        plt.scatter(x = df_energy_gdp.loc[ind, 'mean_cons'], y = df_energy_gdp.loc[ind, 'mean_gdp'], c = 'red')\n",
    "    else: # indicate non-outliers in green\n",
    "        plt.scatter(x = df_energy_gdp.loc[ind, 'mean_cons'], y = df_energy_gdp.loc[ind, 'mean_gdp'], c = 'green', edgecolors = 'black')\n",
    "\n",
    "# Horizontal and vertical lines indicating lower bounds for an outlier\n",
    "hline = plt.hlines(y = 57000, xmin = 0, xmax = 20000, colors = 'blue', linestyles = '--', label = 'mean_gdp = 57000')\n",
    "vline = plt.vlines(x = 10000, ymin = 0, ymax = 105000, colors = 'blue', linestyles = '-.', label = 'mean_cons = 10000')\n",
    "\n",
    "# Title and axis labels\n",
    "plt.title('National Mean GDP per Capita vs. Mean Energy Use per Person from 2000 to 2009', fontsize = 16)\n",
    "plt.ylabel('GDP per Capita (USD)', fontsize = 14)\n",
    "plt.xlabel('Energy Use per Person (toe)', fontsize = 14)\n",
    "plt.legend(handles = [hline, vline], labels = ['mean_gdp = 57000', 'mean_cons = 10000'])\n",
    "\n",
    "# Display correlation coefficient\n",
    "plt.text(x = 14700, y = 94000, s = 'Correlation\\nCoefficient: {}'.format(round(cc, 3)), fontsize = 12, bbox = dict(facecolor='red', alpha=0.5));"
   ]
  },
  {
   "cell_type": "markdown",
   "metadata": {},
   "source": [
    "This repo contains an introduction to [Jupyter](https://jupyter.org) and [IPython](https://ipython.org).\n",
    "\n",
    "Outline of some basics:\n",
    "\n",
    "* [Notebook Basics](../examples/Notebook/Notebook%20Basics.ipynb)\n",
    "* [IPython - beyond plain python](../examples/IPython%20Kernel/Beyond%20Plain%20Python.ipynb)\n",
    "* [Markdown Cells](../examples/Notebook/Working%20With%20Markdown%20Cells.ipynb)\n",
    "* [Rich Display System](../examples/IPython%20Kernel/Rich%20Output.ipynb)\n",
    "* [Custom Display logic](../examples/IPython%20Kernel/Custom%20Display%20Logic.ipynb)\n",
    "* [Running a Secure Public Notebook Server](../examples/Notebook/Running%20the%20Notebook%20Server.ipynb#Securing-the-notebook-server)\n",
    "* [How Jupyter works](../examples/Notebook/Multiple%20Languages%2C%20Frontends.ipynb) to run code in different languages."
   ]
  },
  {
   "cell_type": "markdown",
   "metadata": {},
   "source": [
    "# Conclusion:\n",
    "countries which consume more enregy produce more CO2 This conclusion is based on getting info about the top 5 energy consumers and comparing them to the top 5 CO2 producers abd it was found that they are the same. \n",
    "A high GDP is an indecator that the country is consuiming more energy and producing more CO2 and this is logic since CO2 is produced by cars which reflect indiviulaity in industrial countries. \n",
    "\n",
    "#Limitation:\n",
    "there could be another explnaination that we do not pay attention to such as the weather, data availability from all countries. The study also is linited to the knowledge of the analyst and how familiar is he or she with the world and ernrrgy sector. "
   ]
  },
  {
   "cell_type": "markdown",
   "metadata": {},
   "source": [
    "You can also get this tutorial and run it on your laptop:\n",
    "\n",
    "    git clone https://github.com/ipython/ipython-in-depth\n",
    "\n",
    "Install IPython and Jupyter:\n",
    "\n",
    "with [conda](https://www.anaconda.com/download):\n",
    "\n",
    "    conda install ipython jupyter\n",
    "\n",
    "with pip:\n",
    "\n",
    "    # first, always upgrade pip!\n",
    "    pip install --upgrade pip\n",
    "    pip install --upgrade ipython jupyter\n",
    "\n",
    "Start the notebook in the tutorial directory:\n",
    "\n",
    "    cd ipython-in-depth\n",
    "    jupyter notebook"
   ]
  },
  {
   "cell_type": "code",
   "execution_count": null,
   "metadata": {},
   "outputs": [],
   "source": []
  },
  {
   "cell_type": "code",
   "execution_count": null,
   "metadata": {},
   "outputs": [],
   "source": []
  }
 ],
 "metadata": {
  "kernelspec": {
   "display_name": "Python 3",
   "language": "python",
   "name": "python3"
  },
  "language_info": {
   "codemirror_mode": {
    "name": "ipython",
    "version": 3
   },
   "file_extension": ".py",
   "mimetype": "text/x-python",
   "name": "python",
   "nbconvert_exporter": "python",
   "pygments_lexer": "ipython3",
   "version": "3.7.8"
  }
 },
 "nbformat": 4,
 "nbformat_minor": 4
}
